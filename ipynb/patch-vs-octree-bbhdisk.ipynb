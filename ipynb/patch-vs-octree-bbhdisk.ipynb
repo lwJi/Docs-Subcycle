{
 "cells": [
  {
   "cell_type": "markdown",
   "id": "b56a6f6a-ed93-4d8e-90c3-fa2fcaba3b69",
   "metadata": {},
   "source": [
    "# Patch Based vs Octree Based AMR"
   ]
  },
  {
   "cell_type": "code",
   "execution_count": 1,
   "id": "1ec6cfc2-ef14-4d31-acfc-ea6fb1a3ae7f",
   "metadata": {},
   "outputs": [],
   "source": [
    "using Plots\n",
    "using Symbolics"
   ]
  },
  {
   "cell_type": "code",
   "execution_count": 2,
   "id": "8d5098e8-8f0f-4cbf-b8d1-6e5753dbf6a6",
   "metadata": {},
   "outputs": [
    {
     "data": {
      "text/latex": [
       "$$ \\begin{equation}\n",
       "\\left[\n",
       "\\begin{array}{c}\n",
       "r \\\\\n",
       "\\end{array}\n",
       "\\right]\n",
       "\\end{equation}\n",
       " $$"
      ],
      "text/plain": [
       "1-element Vector{Num}:\n",
       " r"
      ]
     },
     "execution_count": 2,
     "metadata": {},
     "output_type": "execute_result"
    }
   ],
   "source": [
    "@variables r"
   ]
  },
  {
   "cell_type": "markdown",
   "id": "0fd7dee5-c0a6-469a-9a1a-8e0400b00d49",
   "metadata": {},
   "source": [
    "#### Number of Grid Points"
   ]
  },
  {
   "cell_type": "code",
   "execution_count": 3,
   "id": "aca91503-0160-4ae8-8c7f-57593f6cde7d",
   "metadata": {},
   "outputs": [],
   "source": [
    "# patch based AMR\n",
    "GridPointsPatch = [\n",
    "    256^3,  # 8192.0\n",
    "    256^3,  # 4096.0\n",
    "    256^3,  # 2048.0\n",
    "    256^3,  # 1024.0\n",
    "    256^3,  # 512.0\n",
    "    256^3,  # 256.0\n",
    "    256^3,  # 128.0\n",
    "    256^3,  # 64.0\n",
    "    256^3,  # 32.0\n",
    "    (256 * 20/16)^3,  # 20.0\n",
    "    (256 * 6/8)^3 * 2,  # 6.0\n",
    "    (256 * 3/4)^3 * 2,  # 3.0\n",
    "    (256 * 0.5/2)^3 * 2,  # 0.5\n",
    "];\n",
    "# octree based AMR\n",
    "GridPointsOctree = [\n",
    "    256^3           - (256 * 1/2)^3,  # 8192.0\n",
    "    256^3           - (256 * 1/2)^3,  # 4096.0\n",
    "    256^3           - (256 * 1/2)^3,  # 2048.0\n",
    "    256^3           - (256 * 1/2)^3,  # 1024.0\n",
    "    256^3           - (256 * 1/2)^3,  # 512.0\n",
    "    256^3           - (256 * 1/2)^3,  # 256.0\n",
    "    256^3           - (256 * 1/2)^3,  # 128.0\n",
    "    256^3           - (256 * 1/2)^3,  # 64.0\n",
    "    256^3           - (256 * 1/2)^3,  # 32.0\n",
    "    (256 * 20/16)^3 - (((256 * 20/16) * 6/20)^3) * 2,  # 20.0\n",
    "    ((256 * 6/8)^3  - ((256 * 6/8) *   3/6)^3) * 2,  # 6.0\n",
    "    ((256 * 3/4)^3  - ((256 * 3/4) * 0.5/3)^3) * 2,  # 3.0\n",
    "    (256 * 0.5/2)^3 * 2,  # 0.5\n",
    "];"
   ]
  },
  {
   "cell_type": "code",
   "execution_count": 4,
   "id": "ecaf6f20-aa27-4590-b389-772892078a1e",
   "metadata": {},
   "outputs": [
    {
     "data": {
      "text/plain": [
       "13"
      ]
     },
     "execution_count": 4,
     "metadata": {},
     "output_type": "execute_result"
    }
   ],
   "source": [
    "Levels = length(GridPointsPatch)"
   ]
  },
  {
   "cell_type": "code",
   "execution_count": 5,
   "id": "eb15b505-badb-4cd8-b449-3fd56bb39e7e",
   "metadata": {},
   "outputs": [
    {
     "name": "stdout",
     "output_type": "stream",
     "text": [
      "[1.6777216e7, 1.6777216e7, 1.6777216e7, 1.6777216e7, 1.6777216e7, 1.6777216e7, 1.6777216e7, 1.6777216e7, 1.6777216e7, 3.2768e7, 1.4155776e7, 1.4155776e7, 524288.0]\n",
      "[1.4680064e7, 1.4680064e7, 1.4680064e7, 1.4680064e7, 1.4680064e7, 1.4680064e7, 1.4680064e7, 1.4680064e7, 1.4680064e7, 3.0998528e7, 1.2386304e7, 1.409024e7, 524288.0]\n"
     ]
    }
   ],
   "source": [
    "println(GridPointsPatch)\n",
    "println(GridPointsOctree)"
   ]
  },
  {
   "cell_type": "markdown",
   "id": "0b44cc3d-8778-497d-b3d7-ae2ce39690df",
   "metadata": {},
   "source": [
    "## Patch Based AMR"
   ]
  },
  {
   "cell_type": "markdown",
   "id": "e9a35744-1fe4-4d95-80f9-29ad0e4b4896",
   "metadata": {},
   "source": [
    "$$\n",
    "\\begin{align}\n",
    "\\sum_{l=1}^{L}2^{l-1}N_l\n",
    "\\end{align}\n",
    "$$"
   ]
  },
  {
   "cell_type": "code",
   "execution_count": 6,
   "id": "9beaf0a0-5801-4709-b924-d60beca1a578",
   "metadata": {},
   "outputs": [
    {
     "data": {
      "text/plain": [
       "7.0984400896e10"
      ]
     },
     "execution_count": 6,
     "metadata": {},
     "output_type": "execute_result"
    }
   ],
   "source": [
    "patchZCs = sum(GridPointsPatch[lev] * 2^(lev-1) for lev in 1:Levels)"
   ]
  },
  {
   "cell_type": "markdown",
   "id": "9e5d38ec-9d28-46d1-add0-380b09672e30",
   "metadata": {},
   "source": [
    "## Octree Based AMR"
   ]
  },
  {
   "cell_type": "markdown",
   "id": "73550973-a059-476c-864c-ad2db67419ca",
   "metadata": {},
   "source": [
    "$$\n",
    "\\begin{align}\n",
    "2^{L-1}\\sum_{l=1}^LN_l\n",
    "\\end{align}\n",
    "$$"
   ]
  },
  {
   "cell_type": "code",
   "execution_count": 7,
   "id": "188fce7e-25ce-4f14-975f-55ebc0bb98a8",
   "metadata": {},
   "outputs": [
    {
     "data": {
      "text/plain": [
       "7.78731257856e11"
      ]
     },
     "execution_count": 7,
     "metadata": {},
     "output_type": "execute_result"
    }
   ],
   "source": [
    "octreeZCs = 2^(Levels-1) * sum(GridPointsOctree[lev] for lev in 1:Levels)"
   ]
  },
  {
   "cell_type": "markdown",
   "id": "5ea5805f-01c9-43d9-8a51-08124f37a6b7",
   "metadata": {},
   "source": [
    "## Compare: the total number of ZCs required to make a full time step"
   ]
  },
  {
   "cell_type": "code",
   "execution_count": 8,
   "id": "55c08fe2-820c-4ea9-80cc-03e66445e37e",
   "metadata": {},
   "outputs": [
    {
     "data": {
      "text/plain": [
       "10.970456156936894"
      ]
     },
     "execution_count": 8,
     "metadata": {},
     "output_type": "execute_result"
    }
   ],
   "source": [
    "octbypatZCs = octreeZCs / patchZCs"
   ]
  },
  {
   "cell_type": "markdown",
   "id": "1e224beb-7527-4593-841b-93ddf556c449",
   "metadata": {},
   "source": [
    "## Compare: the number of ZCs per node required to make a full time step"
   ]
  },
  {
   "cell_type": "code",
   "execution_count": 9,
   "id": "86c26aa6-0e61-4485-9d05-84fe53b89fe0",
   "metadata": {},
   "outputs": [
    {
     "data": {
      "text/latex": [
       "$$ \\begin{equation}\n",
       "\\frac{16777216}{r}\n",
       "\\end{equation}\n",
       " $$"
      ],
      "text/plain": [
       "16777216 / r"
      ]
     },
     "execution_count": 9,
     "metadata": {},
     "output_type": "execute_result"
    }
   ],
   "source": [
    "patchUs = 256^3 / r"
   ]
  },
  {
   "cell_type": "code",
   "execution_count": 10,
   "id": "3642a158-a69e-4bd8-a77e-d1da1af71b64",
   "metadata": {},
   "outputs": [
    {
     "data": {
      "text/latex": [
       "$$ \\begin{equation}\n",
       "\\frac{1.9012 \\cdot 10^{8}}{r}\n",
       "\\end{equation}\n",
       " $$"
      ],
      "text/plain": [
       "1.90119936e8 / r"
      ]
     },
     "execution_count": 10,
     "metadata": {},
     "output_type": "execute_result"
    }
   ],
   "source": [
    "octreeUs = (octreeZCs/2^(Levels-1)) / r"
   ]
  },
  {
   "cell_type": "code",
   "execution_count": 11,
   "id": "694eed1e-b4bb-4c6e-b115-0a06cd2267ec",
   "metadata": {},
   "outputs": [
    {
     "data": {
      "text/latex": [
       "$$ \\begin{equation}\n",
       "\\frac{7.0984 \\cdot 10^{10} r}{16777216}\n",
       "\\end{equation}\n",
       " $$"
      ],
      "text/plain": [
       "(7.0984400896e10r) / 16777216"
      ]
     },
     "execution_count": 11,
     "metadata": {},
     "output_type": "execute_result"
    }
   ],
   "source": [
    "patchZCperU = patchZCs / patchUs"
   ]
  },
  {
   "cell_type": "code",
   "execution_count": 12,
   "id": "4fc5252e-0b18-4f0c-856b-c9cfb67636d8",
   "metadata": {},
   "outputs": [
    {
     "data": {
      "text/latex": [
       "$$ \\begin{equation}\n",
       "\\frac{7.7873 \\cdot 10^{11} r}{1.9012 \\cdot 10^{8}}\n",
       "\\end{equation}\n",
       " $$"
      ],
      "text/plain": [
       "(7.78731257856e11r) / 1.90119936e8"
      ]
     },
     "execution_count": 12,
     "metadata": {},
     "output_type": "execute_result"
    }
   ],
   "source": [
    "octreeZCperU = octreeZCs / octreeUs"
   ]
  },
  {
   "cell_type": "markdown",
   "id": "2af9ae7f-850d-4dd7-9f3e-1d4bb4f82695",
   "metadata": {},
   "source": [
    "#### compare"
   ]
  },
  {
   "cell_type": "code",
   "execution_count": 13,
   "id": "78964f15-37b3-43c8-b595-3bc077cfe0b3",
   "metadata": {},
   "outputs": [
    {
     "data": {
      "text/latex": [
       "$$ \\begin{equation}\n",
       "0.96809\n",
       "\\end{equation}\n",
       " $$"
      ],
      "text/plain": [
       "0.9680926494918459"
      ]
     },
     "execution_count": 13,
     "metadata": {},
     "output_type": "execute_result"
    }
   ],
   "source": [
    "octbypatZCperU = simplify(octreeZCperU / patchZCperU)"
   ]
  },
  {
   "cell_type": "code",
   "execution_count": 14,
   "id": "97add2bb-abbe-4711-a7cd-785060ee0953",
   "metadata": {},
   "outputs": [
    {
     "data": {
      "text/latex": [
       "$$ \\begin{equation}\n",
       "11.332\n",
       "\\end{equation}\n",
       " $$"
      ],
      "text/plain": [
       "11.33203125"
      ]
     },
     "execution_count": 14,
     "metadata": {},
     "output_type": "execute_result"
    }
   ],
   "source": [
    "octbypatUs = simplify(octreeUs / patchUs)"
   ]
  }
 ],
 "metadata": {
  "kernelspec": {
   "display_name": "Julia 1.10.5",
   "language": "julia",
   "name": "julia-1.10"
  },
  "language_info": {
   "file_extension": ".jl",
   "mimetype": "application/julia",
   "name": "julia",
   "version": "1.10.5"
  }
 },
 "nbformat": 4,
 "nbformat_minor": 5
}
