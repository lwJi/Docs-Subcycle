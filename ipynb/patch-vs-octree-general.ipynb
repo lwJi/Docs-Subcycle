{
 "cells": [
  {
   "cell_type": "markdown",
   "id": "b56a6f6a-ed93-4d8e-90c3-fa2fcaba3b69",
   "metadata": {},
   "source": [
    "# Patch Based vs Octree Based AMR"
   ]
  },
  {
   "cell_type": "code",
   "execution_count": 1,
   "id": "1ec6cfc2-ef14-4d31-acfc-ea6fb1a3ae7f",
   "metadata": {},
   "outputs": [],
   "source": [
    "using Plots\n",
    "using Symbolics"
   ]
  },
  {
   "cell_type": "code",
   "execution_count": 2,
   "id": "34cf0307-7192-4ce8-892b-dd0e0a2c8cfb",
   "metadata": {},
   "outputs": [
    {
     "data": {
      "text/latex": [
       "$$ \\begin{equation}\n",
       "\\left[\n",
       "\\begin{array}{c}\n",
       "N \\\\\n",
       "L \\\\\n",
       "U \\\\\n",
       "r \\\\\n",
       "\\end{array}\n",
       "\\right]\n",
       "\\end{equation}\n",
       " $$"
      ],
      "text/plain": [
       "4-element Vector{Num}:\n",
       " N\n",
       " L\n",
       " U\n",
       " r"
      ]
     },
     "execution_count": 2,
     "metadata": {},
     "output_type": "execute_result"
    }
   ],
   "source": [
    "@variables N, L, U, r"
   ]
  },
  {
   "cell_type": "markdown",
   "id": "0b44cc3d-8778-497d-b3d7-ae2ce39690df",
   "metadata": {},
   "source": [
    "## Patch Based AMR"
   ]
  },
  {
   "cell_type": "markdown",
   "id": "e9a35744-1fe4-4d95-80f9-29ad0e4b4896",
   "metadata": {},
   "source": [
    "Suppose we have $L$ levels of mesh refinement, each level contains $N_l^\\text{patch}$ grid points, the total number of ZCs required to make a full step (with subcycling) is\n",
    "$$\n",
    "\\begin{align}\n",
    "\\sum_{l=1}^L 2^{l-1}N_l^\\text{patch}.\n",
    "\\end{align}\n",
    "$$"
   ]
  },
  {
   "cell_type": "markdown",
   "id": "bdfdf8c9-6af6-49e0-bb2c-5480b6b9f7fb",
   "metadata": {},
   "source": [
    "The time it takes to evolve each substep can't be longer than the time it takes to evolve the level that contains the largest number of grid points, $T_0$. The the time it takes to evolve a full step can't be longer then\n",
    "$$\n",
    "T^\\text{patch}=\\sum_{l=1}^{L}2^{l-1}T_0=(2^L-1)T_0\n",
    "$$"
   ]
  },
  {
   "cell_type": "markdown",
   "id": "9e5d38ec-9d28-46d1-add0-380b09672e30",
   "metadata": {},
   "source": [
    "## Octree Based AMR"
   ]
  },
  {
   "cell_type": "markdown",
   "id": "73550973-a059-476c-864c-ad2db67419ca",
   "metadata": {},
   "source": [
    "Suppose we have same grid structure as above, the total number of ZCs required to make the same number of time step is\n",
    "$$\n",
    "\\begin{align}\n",
    "2^{L-1}\n",
    "\\sum_{l=1}^{L}N_l^\\text{octree}.\n",
    "\\end{align}\n",
    "$$"
   ]
  },
  {
   "cell_type": "markdown",
   "id": "94992107-3124-4b01-9406-5437efc251b1",
   "metadata": {},
   "source": [
    "For the same finite difference scheme, it will take the same amount of time to evole a substep, the time it takes to evolve a full step here would be\n",
    "$$\n",
    "T^\\text{octree}=2^{L-1}T_0\n",
    "$$"
   ]
  },
  {
   "cell_type": "markdown",
   "id": "03494046-71d3-497d-8741-abe8434fd9b8",
   "metadata": {},
   "source": [
    "## Compare"
   ]
  },
  {
   "cell_type": "markdown",
   "id": "ca316916-b3b4-48c8-9327-9665acb8e31f",
   "metadata": {},
   "source": [
    "$$\n",
    "\\begin{align*}\n",
    "\\frac{T^\\text{octree}}{T^\\text{patch}}\n",
    "=\\frac{2^L-1}{2^{L-1}}\n",
    "\\sim \\frac{1}{2},\n",
    "\\quad \\text{when $L$ is large}\n",
    "\\end{align*}\n",
    "$$"
   ]
  }
 ],
 "metadata": {
  "kernelspec": {
   "display_name": "Julia 1.10.5",
   "language": "julia",
   "name": "julia-1.10"
  },
  "language_info": {
   "file_extension": ".jl",
   "mimetype": "application/julia",
   "name": "julia",
   "version": "1.10.5"
  }
 },
 "nbformat": 4,
 "nbformat_minor": 5
}
